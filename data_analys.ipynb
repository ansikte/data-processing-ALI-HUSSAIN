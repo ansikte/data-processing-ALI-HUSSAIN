{
 "cells": [
  {
   "cell_type": "code",
   "execution_count": null,
   "metadata": {},
   "outputs": [],
   "source": [
    "import pandas as pd\n",
    "\n",
    "# Läser in fliken \"Veckodata Riket\" från datafilen \"fhm_covid19\" .\n",
    "df_covid19 = pd.read_excel('Data/fhm_covid19.xlsx', sheet_name='Veckodata Riket')\n",
    "\n",
    "# En initial dataanalys av \"Veckodata Riket\"\n",
    "print(df_covid19.info())\n",
    "print(df_covid19.describe())\n",
    "print(df_covid19['Antal_fall_100000inv_14dagar'].value_counts())\n",
    "print(df_covid19.head())\n",
    "print(df_covid19.columns)\n",
    "print(df_covid19.index)"
   ]
  },
  {
   "cell_type": "code",
   "execution_count": null,
   "metadata": {},
   "outputs": [],
   "source": [
    "# Slår ihop kolumnerna \"år\" och \"veckonummer\" till en \"Vecka\"-kolumn.\n",
    "df_covid19['Vecka'] = df_covid19['år'].astype(str) + \"v\" + df_covid19['veckonummer'].astype(str)\n",
    "\n",
    "print(df_covid19.head())"
   ]
  },
  {
   "cell_type": "code",
   "execution_count": null,
   "metadata": {},
   "outputs": [],
   "source": [
    "import seaborn as sns\n",
    "import matplotlib.pyplot as plt\n",
    "\n",
    "# Förbereder subplottens storlek\n",
    "fig, ax = plt.subplots(figsize=(7, 4))\n",
    "\n",
    "# Anpassar antalet etiketter som visas på x-axeln för att undvika överlappning\n",
    "ticks_to_show = df_covid19['Vecka'].iloc[::3]\n",
    "\n",
    "# Skapar ett subplot-linjediagram över antalet avlidna fall per vecka\n",
    "sns.lineplot(data=df_covid19, x='Vecka', y='Antal_avlidna_vecka', ax=ax)\n",
    "ax.set_xticks(ticks_to_show.index)\n",
    "ax.set_xticklabels(ticks_to_show.values, fontsize='x-small', rotation=90) # Justerar x-axel etiketter för läsbarhet\n",
    "ax.set_title(\"Antal avlidna fall per vecka\")\n",
    "ax.set_xlabel('Vecka')\n",
    "ax.set_ylabel('Antal avlidna')\n",
    "plt.tight_layout() # Anpassar layout:en så att allt får plats i den sparade bilden\n",
    "plt.savefig('Visualisering/avlidna_per_vecka.png', facecolor='w') # Sparar diagrammet & sätter bakgrundsfärgen till vit\n",
    "plt.show()"
   ]
  },
  {
   "cell_type": "code",
   "execution_count": null,
   "metadata": {},
   "outputs": [],
   "source": [
    "import plotly.express as px\n",
    "\n",
    "# Skapar ett linjediagram\n",
    "fig = px.line(df_covid19, x='Vecka', y='Antal_avlidna_vecka', title='Antal avlidna fall per vecka')\n",
    "\n",
    "# Förbättrar layouten\n",
    "fig.update_layout(\n",
    "    xaxis_title='Vecka',\n",
    "    yaxis_title='Antal avlidna',\n",
    "    xaxis=dict(\n",
    "        tickmode='array',\n",
    "        tickvals=df_covid19['Vecka'][::3]), # Anpassar antalet etiketter som visas på x-axeln för att undvika överlappning \n",
    "\n",
    "    xaxis_tickangle= -90  # Roterar etiketterna på x-axeln för bättre läsbarhet\n",
    ")\n",
    "\n",
    "fig.show()\n",
    "\n",
    "# Sparar grafen som en HTML-fil\n",
    "fig.write_html('Visualisering/avlidna_per_vecka.html')"
   ]
  },
  {
   "cell_type": "code",
   "execution_count": null,
   "metadata": {},
   "outputs": [],
   "source": []
  }
 ],
 "metadata": {
  "kernelspec": {
   "display_name": "Python 3",
   "language": "python",
   "name": "python3"
  },
  "language_info": {
   "codemirror_mode": {
    "name": "ipython",
    "version": 3
   },
   "file_extension": ".py",
   "mimetype": "text/x-python",
   "name": "python",
   "nbconvert_exporter": "python",
   "pygments_lexer": "ipython3",
   "version": "3.12.0"
  }
 },
 "nbformat": 4,
 "nbformat_minor": 2
}
