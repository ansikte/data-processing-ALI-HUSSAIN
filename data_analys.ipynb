{
 "cells": [
  {
   "cell_type": "code",
   "execution_count": null,
   "metadata": {},
   "outputs": [],
   "source": [
    "import pandas as pd\n",
    "\n",
    "# Läser in fliken \"Veckodata Riket\" från datafilen \"fhm_covid19\".\n",
    "df_covid19 = pd.read_excel('Data/fhm_covid19.xlsx', sheet_name='Veckodata Riket')\n",
    "\n",
    "# En initial dataanalys av \"Veckodata Riket\".\n",
    "print(df_covid19.info())\n",
    "print(df_covid19.describe())\n",
    "print(df_covid19['Antal_fall_100000inv_14dagar'].value_counts())\n",
    "print(df_covid19.head())\n",
    "print(df_covid19.columns)\n",
    "print(df_covid19.index)"
   ]
  },
  {
   "cell_type": "code",
   "execution_count": null,
   "metadata": {},
   "outputs": [],
   "source": [
    "# Konkatenera kolumnerna \"år\" och \"veckonummer\" till en \"Vecka\"-kolumn med formatet 'ÅrVeckonummer'.\n",
    "# Formaterar veckonumret så att det alltid har två siffror genom att lägga till en inledande nolla vid ental. \n",
    "df_covid19['Vecka'] = df_covid19['år'].astype(str) + \"v\" + df_covid19['veckonummer'].astype(str).str.zfill(2) \n",
    "\n",
    "print(df_covid19['Vecka'].head())"
   ]
  },
  {
   "cell_type": "code",
   "execution_count": null,
   "metadata": {},
   "outputs": [],
   "source": [
    "import seaborn as sns\n",
    "import matplotlib.pyplot as plt\n",
    "\n",
    "# Förbereder subplottens storlek.\n",
    "fig, axs = plt.subplots(2, 2, figsize=(14, 10)) # Justerad storlek för bättre visuell representation.\n",
    "\n",
    "# Anpassar antalet etiketter som visas på x-axeln till var fjärde vecka för att undvika överlappning.\n",
    "# Skapar en variabel för att justera x-axel etiketter för läsbarhet.\n",
    "ticks_to_show = df_covid19['Vecka'].iloc[::4]\n",
    "set_rotation = 90\n",
    "\n",
    "# Första subplot-linjediagrammet över antalet avlidna fall per vecka.\n",
    "sns.lineplot(data=df_covid19, x='Vecka', y='Antal_avlidna_vecka', ax=axs[0, 0])\n",
    "axs[0, 0].set_title(\"Antal avlidna fall per vecka\")\n",
    "axs[0, 0].set_xticks(ticks_to_show.index)\n",
    "axs[0, 0].set_xticklabels(ticks_to_show.values, rotation= set_rotation)\n",
    "\n",
    "# Andra subplot-linjediagrammet över antalet fall per vecka.\n",
    "sns.lineplot(data=df_covid19, x='Vecka', y='Antal_fall_vecka', ax=axs[0, 1])\n",
    "axs[0, 1].set_title(\"Nya fall per vecka\")\n",
    "axs[0, 1].set_xticks(ticks_to_show.index)\n",
    "axs[0, 1].set_xticklabels(ticks_to_show.values, rotation= set_rotation)\n",
    "\n",
    "# Tredje subplot-linjediagrammet är ett kombinerat linjediagram för att visa trendea av avlidna och nya COVID-19 fall per vecka.\n",
    "# Smälter data för att få 'Antal_avlidna_vecka' och 'Antal_fall_vecka' i samma kolumn.\n",
    "melted_df = df_covid19.melt(id_vars=['Vecka'], value_vars=['Antal_avlidna_vecka', 'Antal_fall_vecka'], var_name='Kategori', value_name='Antal')\n",
    "\n",
    "# Använder 'hue' parametern som automatiskt både tilldelar olika färger till varje kategori\n",
    "# och skapar en legend för att förklara vilken färg som motsvarar vilken kategori.\n",
    "sns.lineplot(x='Vecka', y='Antal', hue='Kategori', data=melted_df, ax=axs[1, 0])\n",
    "axs[1, 0].set_title(\"Kombinerade avlidna och nya fall per vecka\")\n",
    "axs[1, 0].set_xticks(ticks_to_show.index)\n",
    "axs[1, 0].set_xticklabels(ticks_to_show.values, rotation= set_rotation)\n",
    "\n",
    "# Fjärde subplot-linjediagrammet som är för kumulativa antal fall.\n",
    "sns.lineplot(data=df_covid19, x='Vecka', y='Kum_antal_fall', ax=axs[1, 1])\n",
    "axs[1, 1].set_title(\"Kumulativa antal fall per vecka\")\n",
    "axs[1, 1].set_xticks(ticks_to_show.index)\n",
    "axs[1, 1].set_xticklabels(ticks_to_show.values, rotation= set_rotation)\n",
    "\n",
    "# Anpassar layouten så att allt får plats och inget klipps bort i den sparade PNG-filen.\n",
    "plt.tight_layout()\n",
    "\n",
    "# Sparar diagrammet som en PNG-fil med en vit bakgrundsfärg för att undvika att den visas som transparent.\n",
    "plt.savefig('Visualisering/2x2_covid19_linjediagram.png', facecolor='w')\n",
    "\n",
    "# Visar plottarna\n",
    "plt.show()"
   ]
  },
  {
   "cell_type": "code",
   "execution_count": null,
   "metadata": {},
   "outputs": [],
   "source": [
    "import plotly.express as px\n",
    "\n",
    "# Skapar ett linjediagram för antalet avlidna fall per vecka.\n",
    "fig = px.line(df_covid19, x='Vecka', y='Antal_avlidna_vecka', title='Antal avlidna fall per vecka')\n",
    "\n",
    "# Förbättrar layouten.\n",
    "fig.update_layout(\n",
    "    xaxis_title='Vecka',\n",
    "    yaxis_title='Antal avlidna',\n",
    "    xaxis=dict(\n",
    "        tickmode='array',\n",
    "        tickvals=df_covid19['Vecka'][::2]), # Anpassar antalet etiketter som visas på x-axeln till varannan vecka för att undvika överlappning .\n",
    "\n",
    "    xaxis_tickangle= -90  # Roterar etiketterna på x-axeln för bättre läsbarhet.\n",
    ")\n",
    "\n",
    "fig.show()\n",
    "# Sparar grafen som en HTML-fil.\n",
    "fig.write_html('Visualisering/avlidna_per_vecka.html')\n",
    "\n",
    "# Linjediagram för nya fall per vecka.\n",
    "fig = px.line(df_covid19, x='Vecka', y='Antal_fall_vecka', title='Nya fall per vecka')\n",
    "fig.update_layout(xaxis_title='Vecka', yaxis_title='Antal nya fall', xaxis=dict(tickmode='array', tickvals=df_covid19['Vecka'][::2]), xaxis_tickangle=-90)\n",
    "fig.show()\n",
    "fig.write_html('Visualisering/nya_fall_per_vecka.html')\n",
    "\n",
    "# Linjediagram för avlidna och nya fall per vecka i samma fönster.\n",
    "# 'color' parametern tilldelar olika färger baserat på värdena i 'Kategori' kolumnen.\n",
    "fig = px.line(melted_df, x='Vecka', y='Antal', color='Kategori', title='Kombinerade avlidna och nya fall per vecka')\n",
    "fig.update_layout(xaxis_title='Vecka', yaxis_title='Antal fall', xaxis=dict(tickmode='array', tickvals=melted_df['Vecka'][::2]), xaxis_tickangle=-90)\n",
    "fig.show()\n",
    "fig.write_html('Visualisering/kombinerade_avlidna_och_nya_fall_per_vecka.html')\n",
    "\n",
    "# Linjediagram för kumulativt antal fall per vecka.\n",
    "fig = px.line(df_covid19, x='Vecka', y='Kum_antal_fall', title='Kumulativa antal fall per vecka')\n",
    "fig.update_layout(xaxis_title='Vecka', yaxis_title='Kumulativt antal fall', xaxis=dict(tickmode='array', tickvals=df_covid19['Vecka'][::2]), xaxis_tickangle=-90)\n",
    "fig.show()\n",
    "fig.write_html('Visualisering/kumulativa_fall_per_vecka.html')"
   ]
  },
  {
   "cell_type": "code",
   "execution_count": 7,
   "metadata": {},
   "outputs": [
    {
     "name": "stdout",
     "output_type": "stream",
     "text": [
      "Antalet län som är representerade i datasetet: 21\n",
      "Antalet kommuner som är representerade i datasetet: 290\n",
      "Totala befolkningen som är representerad i datasetet: 9092790\n"
     ]
    }
   ],
   "source": [
    "# Läser in fliken \"Vaccinerade kommun och ålder\" från datafilen \"fhm_covid19_vaccin\".\n",
    "df_covid19_vaccin = pd.read_excel('Data/fhm_covid19_vaccin.xlsx', sheet_name='Vaccinerade kommun och ålder')\n",
    "\n",
    "# Räknar antalet län\n",
    "antal_lan = df_covid19_vaccin['Län'].nunique()\n",
    "print(f\"Antalet län som är representerade i datasetet: {antal_lan}\")\n",
    "\n",
    "# Räknar antelet kommuner\n",
    "antal_kommuner = df_covid19_vaccin['Kommun'].nunique()\n",
    "print(f\"Antalet kommuner som är representerade i datasetet: {antal_kommuner}\")\n",
    "\n",
    "# Summa av befolkningen\n",
    "total_befolkning = df_covid19_vaccin['Befolkning'].sum()\n",
    "print(f\"Totala befolkningen som är representerad i datasetet: {total_befolkning}\")"
   ]
  },
  {
   "cell_type": "code",
   "execution_count": null,
   "metadata": {},
   "outputs": [],
   "source": []
  }
 ],
 "metadata": {
  "kernelspec": {
   "display_name": "Python 3",
   "language": "python",
   "name": "python3"
  },
  "language_info": {
   "codemirror_mode": {
    "name": "ipython",
    "version": 3
   },
   "file_extension": ".py",
   "mimetype": "text/x-python",
   "name": "python",
   "nbconvert_exporter": "python",
   "pygments_lexer": "ipython3",
   "version": "3.12.0"
  }
 },
 "nbformat": 4,
 "nbformat_minor": 2
}
